{
 "cells": [
  {
   "cell_type": "code",
   "execution_count": 1,
   "id": "2a8071b3",
   "metadata": {},
   "outputs": [],
   "source": [
    "import re\n",
    "import pandas as pd"
   ]
  },
  {
   "cell_type": "code",
   "execution_count": 2,
   "id": "5bfac0c2",
   "metadata": {},
   "outputs": [
    {
     "data": {
      "text/html": [
       "<div>\n",
       "<style scoped>\n",
       "    .dataframe tbody tr th:only-of-type {\n",
       "        vertical-align: middle;\n",
       "    }\n",
       "\n",
       "    .dataframe tbody tr th {\n",
       "        vertical-align: top;\n",
       "    }\n",
       "\n",
       "    .dataframe thead th {\n",
       "        text-align: right;\n",
       "    }\n",
       "</style>\n",
       "<table border=\"1\" class=\"dataframe\">\n",
       "  <thead>\n",
       "    <tr style=\"text-align: right;\">\n",
       "      <th></th>\n",
       "      <th>date of birth</th>\n",
       "      <th>number of people</th>\n",
       "    </tr>\n",
       "  </thead>\n",
       "  <tbody>\n",
       "    <tr>\n",
       "      <th>0</th>\n",
       "      <td>1900_01_01</td>\n",
       "      <td>8</td>\n",
       "    </tr>\n",
       "    <tr>\n",
       "      <th>1</th>\n",
       "      <td>1900_01_02</td>\n",
       "      <td>1</td>\n",
       "    </tr>\n",
       "    <tr>\n",
       "      <th>2</th>\n",
       "      <td>1900_01_04</td>\n",
       "      <td>1</td>\n",
       "    </tr>\n",
       "    <tr>\n",
       "      <th>3</th>\n",
       "      <td>1900_01_06</td>\n",
       "      <td>1</td>\n",
       "    </tr>\n",
       "    <tr>\n",
       "      <th>4</th>\n",
       "      <td>1900_01_10</td>\n",
       "      <td>1</td>\n",
       "    </tr>\n",
       "  </tbody>\n",
       "</table>\n",
       "</div>"
      ],
      "text/plain": [
       "  date of birth  number of people\n",
       "0    1900_01_01                 8\n",
       "1    1900_01_02                 1\n",
       "2    1900_01_04                 1\n",
       "3    1900_01_06                 1\n",
       "4    1900_01_10                 1"
      ]
     },
     "execution_count": 2,
     "metadata": {},
     "output_type": "execute_result"
    }
   ],
   "source": [
    "df = pd.read_csv('/Users/nkazimulobuthelezi/Downloads/Eighty20 Data Engineering Challenge/Q1_birthday_challenge.txt',\n",
    "           sep='\\t')\n",
    "df.head()"
   ]
  },
  {
   "cell_type": "markdown",
   "id": "c94c8f7d",
   "metadata": {},
   "source": [
    "#### Date column is an object type, and no missing values"
   ]
  },
  {
   "cell_type": "code",
   "execution_count": 3,
   "id": "054b5899",
   "metadata": {
    "scrolled": true
   },
   "outputs": [
    {
     "name": "stdout",
     "output_type": "stream",
     "text": [
      "<class 'pandas.core.frame.DataFrame'>\n",
      "RangeIndex: 29814 entries, 0 to 29813\n",
      "Data columns (total 2 columns):\n",
      " #   Column            Non-Null Count  Dtype \n",
      "---  ------            --------------  ----- \n",
      " 0   date of birth     29814 non-null  object\n",
      " 1   number of people  29814 non-null  int64 \n",
      "dtypes: int64(1), object(1)\n",
      "memory usage: 466.0+ KB\n"
     ]
    }
   ],
   "source": [
    "df.info()"
   ]
  },
  {
   "cell_type": "code",
   "execution_count": 4,
   "id": "9a1f4653",
   "metadata": {},
   "outputs": [
    {
     "data": {
      "text/html": [
       "<div>\n",
       "<style scoped>\n",
       "    .dataframe tbody tr th:only-of-type {\n",
       "        vertical-align: middle;\n",
       "    }\n",
       "\n",
       "    .dataframe tbody tr th {\n",
       "        vertical-align: top;\n",
       "    }\n",
       "\n",
       "    .dataframe thead th {\n",
       "        text-align: right;\n",
       "    }\n",
       "</style>\n",
       "<table border=\"1\" class=\"dataframe\">\n",
       "  <thead>\n",
       "    <tr style=\"text-align: right;\">\n",
       "      <th></th>\n",
       "      <th>number of people</th>\n",
       "    </tr>\n",
       "  </thead>\n",
       "  <tbody>\n",
       "    <tr>\n",
       "      <th>count</th>\n",
       "      <td>29814.000000</td>\n",
       "    </tr>\n",
       "    <tr>\n",
       "      <th>mean</th>\n",
       "      <td>69.355974</td>\n",
       "    </tr>\n",
       "    <tr>\n",
       "      <th>std</th>\n",
       "      <td>64.154373</td>\n",
       "    </tr>\n",
       "    <tr>\n",
       "      <th>min</th>\n",
       "      <td>1.000000</td>\n",
       "    </tr>\n",
       "    <tr>\n",
       "      <th>25%</th>\n",
       "      <td>14.000000</td>\n",
       "    </tr>\n",
       "    <tr>\n",
       "      <th>50%</th>\n",
       "      <td>47.000000</td>\n",
       "    </tr>\n",
       "    <tr>\n",
       "      <th>75%</th>\n",
       "      <td>120.000000</td>\n",
       "    </tr>\n",
       "    <tr>\n",
       "      <th>max</th>\n",
       "      <td>541.000000</td>\n",
       "    </tr>\n",
       "  </tbody>\n",
       "</table>\n",
       "</div>"
      ],
      "text/plain": [
       "       number of people\n",
       "count      29814.000000\n",
       "mean          69.355974\n",
       "std           64.154373\n",
       "min            1.000000\n",
       "25%           14.000000\n",
       "50%           47.000000\n",
       "75%          120.000000\n",
       "max          541.000000"
      ]
     },
     "execution_count": 4,
     "metadata": {},
     "output_type": "execute_result"
    }
   ],
   "source": [
    "#minimum no. of people born in a single day == 1, which might mean there isn't a date for 0 births\n",
    "# we should rather create a date range to fill missing dates with 0 counts\n",
    "df.describe()"
   ]
  },
  {
   "cell_type": "code",
   "execution_count": 5,
   "id": "9d27f3ac",
   "metadata": {},
   "outputs": [
    {
     "name": "stdout",
     "output_type": "stream",
     "text": [
      "Min date of birth = 1900_01_01,\n",
      "          Max date of birth = 1999_12_20,\n",
      "          Unique date of births = 29813,\n",
      "          Total rows = 29814\n"
     ]
    }
   ],
   "source": [
    "print(f\"\"\"Min date of birth = {df['date of birth'].min()},\n",
    "          Max date of birth = {df['date of birth'].max()},\n",
    "          Unique date of births = {len(df['date of birth'].unique())},\n",
    "          Total rows = {df['date of birth'].count()}\"\"\")"
   ]
  },
  {
   "cell_type": "markdown",
   "id": "01d612fb",
   "metadata": {},
   "source": [
    "#### We have duplicate dates/records, the data suggests this should be the aggregate field, therefore should be unique"
   ]
  },
  {
   "cell_type": "code",
   "execution_count": 6,
   "id": "94d61398",
   "metadata": {},
   "outputs": [
    {
     "data": {
      "text/html": [
       "<div>\n",
       "<style scoped>\n",
       "    .dataframe tbody tr th:only-of-type {\n",
       "        vertical-align: middle;\n",
       "    }\n",
       "\n",
       "    .dataframe tbody tr th {\n",
       "        vertical-align: top;\n",
       "    }\n",
       "\n",
       "    .dataframe thead th {\n",
       "        text-align: right;\n",
       "    }\n",
       "</style>\n",
       "<table border=\"1\" class=\"dataframe\">\n",
       "  <thead>\n",
       "    <tr style=\"text-align: right;\">\n",
       "      <th></th>\n",
       "      <th>date of birth</th>\n",
       "      <th>number of people</th>\n",
       "    </tr>\n",
       "  </thead>\n",
       "  <tbody>\n",
       "    <tr>\n",
       "      <th>402</th>\n",
       "      <td>1903_01_21</td>\n",
       "      <td>1</td>\n",
       "    </tr>\n",
       "  </tbody>\n",
       "</table>\n",
       "</div>"
      ],
      "text/plain": [
       "    date of birth  number of people\n",
       "402    1903_01_21                 1"
      ]
     },
     "execution_count": 6,
     "metadata": {},
     "output_type": "execute_result"
    }
   ],
   "source": [
    "df[df.duplicated()]"
   ]
  },
  {
   "cell_type": "code",
   "execution_count": 7,
   "id": "37c45df9",
   "metadata": {},
   "outputs": [
    {
     "data": {
      "text/html": [
       "<div>\n",
       "<style scoped>\n",
       "    .dataframe tbody tr th:only-of-type {\n",
       "        vertical-align: middle;\n",
       "    }\n",
       "\n",
       "    .dataframe tbody tr th {\n",
       "        vertical-align: top;\n",
       "    }\n",
       "\n",
       "    .dataframe thead th {\n",
       "        text-align: right;\n",
       "    }\n",
       "</style>\n",
       "<table border=\"1\" class=\"dataframe\">\n",
       "  <thead>\n",
       "    <tr style=\"text-align: right;\">\n",
       "      <th></th>\n",
       "      <th>date of birth</th>\n",
       "      <th>number of people</th>\n",
       "    </tr>\n",
       "  </thead>\n",
       "  <tbody>\n",
       "    <tr>\n",
       "      <th>401</th>\n",
       "      <td>1903_01_21</td>\n",
       "      <td>1</td>\n",
       "    </tr>\n",
       "    <tr>\n",
       "      <th>402</th>\n",
       "      <td>1903_01_21</td>\n",
       "      <td>1</td>\n",
       "    </tr>\n",
       "  </tbody>\n",
       "</table>\n",
       "</div>"
      ],
      "text/plain": [
       "    date of birth  number of people\n",
       "401    1903_01_21                 1\n",
       "402    1903_01_21                 1"
      ]
     },
     "execution_count": 7,
     "metadata": {},
     "output_type": "execute_result"
    }
   ],
   "source": [
    "df[df['date of birth']=='1903_01_21']"
   ]
  },
  {
   "cell_type": "code",
   "execution_count": 8,
   "id": "be17cb95",
   "metadata": {},
   "outputs": [],
   "source": [
    "#assuming this is the prefered date format\n",
    "#we'll validate against it using re, before casting to correct python type\n",
    "def str_date_format_validation(str_date):\n",
    "    re_object = re.match(\"([1][9]\\d{2}[\\_]\\d{2}[\\_][0123]\\d)\", str_date)\n",
    "    if re_object is None:\n",
    "        return 0\n",
    "    else:\n",
    "        return 1"
   ]
  },
  {
   "cell_type": "code",
   "execution_count": 9,
   "id": "8e156f33",
   "metadata": {},
   "outputs": [],
   "source": [
    "df['is_valid_date'] = df.apply(lambda row: str_date_format_validation(row['date of birth']), axis=1)"
   ]
  },
  {
   "cell_type": "code",
   "execution_count": 10,
   "id": "b5786557",
   "metadata": {},
   "outputs": [
    {
     "data": {
      "text/plain": [
       "array([1])"
      ]
     },
     "execution_count": 10,
     "metadata": {},
     "output_type": "execute_result"
    }
   ],
   "source": [
    "#the date format is consistent, this can then be parsed to python date type\n",
    "df.is_valid_date.unique()"
   ]
  },
  {
   "cell_type": "code",
   "execution_count": 11,
   "id": "21393179",
   "metadata": {},
   "outputs": [],
   "source": [
    "#drop dulicates\n",
    "df.drop_duplicates(inplace=True)"
   ]
  },
  {
   "cell_type": "code",
   "execution_count": 12,
   "id": "418f0f62",
   "metadata": {
    "scrolled": true
   },
   "outputs": [
    {
     "data": {
      "text/plain": [
       "date of birth       0.018422\n",
       "number of people    0.968029\n",
       "is_valid_date       0.000000\n",
       "dtype: float64"
      ]
     },
     "execution_count": 12,
     "metadata": {},
     "output_type": "execute_result"
    }
   ],
   "source": [
    "df.skew()"
   ]
  },
  {
   "cell_type": "code",
   "execution_count": 13,
   "id": "9d82ad27",
   "metadata": {},
   "outputs": [],
   "source": [
    "import matplotlib.pyplot as plt\n",
    "import seaborn as sns\n",
    "sns.set()\n",
    "%matplotlib inline"
   ]
  },
  {
   "cell_type": "markdown",
   "id": "cf798b84",
   "metadata": {},
   "source": [
    "df['date of birth'].hist()"
   ]
  },
  {
   "cell_type": "code",
   "execution_count": 14,
   "id": "46e715da",
   "metadata": {},
   "outputs": [
    {
     "data": {
      "text/plain": [
       "'1999_12_20'"
      ]
     },
     "execution_count": 14,
     "metadata": {},
     "output_type": "execute_result"
    }
   ],
   "source": [
    "max(df['date of birth'])"
   ]
  },
  {
   "cell_type": "code",
   "execution_count": 15,
   "id": "f80c589d",
   "metadata": {},
   "outputs": [
    {
     "data": {
      "text/plain": [
       "'1999-12-20'"
      ]
     },
     "execution_count": 15,
     "metadata": {},
     "output_type": "execute_result"
    }
   ],
   "source": [
    "'1999_12_20'.replace('_', '-')"
   ]
  },
  {
   "cell_type": "code",
   "execution_count": 16,
   "id": "3321300a",
   "metadata": {
    "scrolled": true
   },
   "outputs": [
    {
     "data": {
      "text/plain": [
       "DatetimeIndex(['2018-09-09', '2018-09-10', '2018-09-11', '2018-09-12',\n",
       "               '2018-09-13', '2018-09-14', '2018-09-15', '2018-09-16',\n",
       "               '2018-09-17', '2018-09-18',\n",
       "               ...\n",
       "               '2020-01-24', '2020-01-25', '2020-01-26', '2020-01-27',\n",
       "               '2020-01-28', '2020-01-29', '2020-01-30', '2020-01-31',\n",
       "               '2020-02-01', '2020-02-02'],\n",
       "              dtype='datetime64[ns]', length=512, freq='D')"
      ]
     },
     "execution_count": 16,
     "metadata": {},
     "output_type": "execute_result"
    }
   ],
   "source": [
    "pd.date_range(start=\"2018-09-09\",end=\"2020-02-02\")"
   ]
  },
  {
   "cell_type": "code",
   "execution_count": 17,
   "id": "6d38c0ff",
   "metadata": {},
   "outputs": [
    {
     "data": {
      "text/plain": [
       "('1900_01_01', '1999_12_20')"
      ]
     },
     "execution_count": 17,
     "metadata": {},
     "output_type": "execute_result"
    }
   ],
   "source": [
    "min(df['date of birth']), max(df['date of birth'])"
   ]
  },
  {
   "cell_type": "code",
   "execution_count": 18,
   "id": "7fbf4bdd",
   "metadata": {},
   "outputs": [
    {
     "data": {
      "text/plain": [
       "DatetimeIndex(['1900-01-01', '1900-01-02', '1900-01-03', '1900-01-04',\n",
       "               '1900-01-05', '1900-01-06', '1900-01-07', '1900-01-08',\n",
       "               '1900-01-09', '1900-01-10',\n",
       "               ...\n",
       "               '1999-12-11', '1999-12-12', '1999-12-13', '1999-12-14',\n",
       "               '1999-12-15', '1999-12-16', '1999-12-17', '1999-12-18',\n",
       "               '1999-12-19', '1999-12-20'],\n",
       "              dtype='datetime64[ns]', length=36513, freq='D')"
      ]
     },
     "execution_count": 18,
     "metadata": {},
     "output_type": "execute_result"
    }
   ],
   "source": [
    "dates = pd.date_range(start='1900-01-01',end='1999-12-20')\n",
    "dates"
   ]
  },
  {
   "cell_type": "code",
   "execution_count": 19,
   "id": "09e657df",
   "metadata": {
    "scrolled": true
   },
   "outputs": [
    {
     "data": {
      "text/html": [
       "<div>\n",
       "<style scoped>\n",
       "    .dataframe tbody tr th:only-of-type {\n",
       "        vertical-align: middle;\n",
       "    }\n",
       "\n",
       "    .dataframe tbody tr th {\n",
       "        vertical-align: top;\n",
       "    }\n",
       "\n",
       "    .dataframe thead th {\n",
       "        text-align: right;\n",
       "    }\n",
       "</style>\n",
       "<table border=\"1\" class=\"dataframe\">\n",
       "  <thead>\n",
       "    <tr style=\"text-align: right;\">\n",
       "      <th></th>\n",
       "      <th>reference_date</th>\n",
       "    </tr>\n",
       "  </thead>\n",
       "  <tbody>\n",
       "    <tr>\n",
       "      <th>0</th>\n",
       "      <td>1900-01-01</td>\n",
       "    </tr>\n",
       "    <tr>\n",
       "      <th>1</th>\n",
       "      <td>1900-01-02</td>\n",
       "    </tr>\n",
       "    <tr>\n",
       "      <th>2</th>\n",
       "      <td>1900-01-03</td>\n",
       "    </tr>\n",
       "    <tr>\n",
       "      <th>3</th>\n",
       "      <td>1900-01-04</td>\n",
       "    </tr>\n",
       "    <tr>\n",
       "      <th>4</th>\n",
       "      <td>1900-01-05</td>\n",
       "    </tr>\n",
       "    <tr>\n",
       "      <th>5</th>\n",
       "      <td>1900-01-06</td>\n",
       "    </tr>\n",
       "    <tr>\n",
       "      <th>6</th>\n",
       "      <td>1900-01-07</td>\n",
       "    </tr>\n",
       "    <tr>\n",
       "      <th>7</th>\n",
       "      <td>1900-01-08</td>\n",
       "    </tr>\n",
       "    <tr>\n",
       "      <th>8</th>\n",
       "      <td>1900-01-09</td>\n",
       "    </tr>\n",
       "    <tr>\n",
       "      <th>9</th>\n",
       "      <td>1900-01-10</td>\n",
       "    </tr>\n",
       "  </tbody>\n",
       "</table>\n",
       "</div>"
      ],
      "text/plain": [
       "  reference_date\n",
       "0     1900-01-01\n",
       "1     1900-01-02\n",
       "2     1900-01-03\n",
       "3     1900-01-04\n",
       "4     1900-01-05\n",
       "5     1900-01-06\n",
       "6     1900-01-07\n",
       "7     1900-01-08\n",
       "8     1900-01-09\n",
       "9     1900-01-10"
      ]
     },
     "execution_count": 19,
     "metadata": {},
     "output_type": "execute_result"
    }
   ],
   "source": [
    "dates_df = pd.DataFrame(dates, columns=['reference_date'])\n",
    "dates_df.reference_date = dates_df.reference_date.astype(str)\n",
    "dates_df.head(10)"
   ]
  },
  {
   "cell_type": "code",
   "execution_count": 20,
   "id": "46001fc5",
   "metadata": {},
   "outputs": [],
   "source": [
    "dates_df['reference_date'] = dates_df.apply(lambda row: row['reference_date'].replace('-', '_'), axis=1)\n",
    "dates_df"
   ]
  },
  {
   "cell_type": "code",
   "execution_count": 22,
   "id": "1c9004d2",
   "metadata": {},
   "outputs": [],
   "source": [
    "dates_df = dates_df.merge(df, how='left',left_on=['reference_date'], right_on=['date of birth'])\n",
    "dates_df['number of people'] = dates_df['number of people'].fillna(0)\n",
    "dates_df['is_valid_date'] = dates_df['is_valid_date'].fillna(1)\n",
    "df = dates_df.copy()"
   ]
  },
  {
   "cell_type": "code",
   "execution_count": 23,
   "id": "39382471",
   "metadata": {},
   "outputs": [],
   "source": [
    "df.drop('date of birth', axis=1, inplace=True)"
   ]
  },
  {
   "cell_type": "code",
   "execution_count": 24,
   "id": "04597291",
   "metadata": {},
   "outputs": [],
   "source": [
    "df.rename({'reference_date':'date of birth'}, axis=1, inplace=True)"
   ]
  },
  {
   "cell_type": "code",
   "execution_count": 25,
   "id": "9f48fecf",
   "metadata": {},
   "outputs": [],
   "source": [
    "df['number of people'] = df['number of people'].astype(int)\n",
    "df['is_valid_date'] = df['is_valid_date'].astype(int)"
   ]
  },
  {
   "cell_type": "code",
   "execution_count": 26,
   "id": "97683b23",
   "metadata": {},
   "outputs": [],
   "source": [
    "df['birth_year'] = df['date of birth'].apply(lambda row: row[:4])"
   ]
  },
  {
   "cell_type": "code",
   "execution_count": 27,
   "id": "55f34c59",
   "metadata": {},
   "outputs": [
    {
     "data": {
      "text/html": [
       "<div>\n",
       "<style scoped>\n",
       "    .dataframe tbody tr th:only-of-type {\n",
       "        vertical-align: middle;\n",
       "    }\n",
       "\n",
       "    .dataframe tbody tr th {\n",
       "        vertical-align: top;\n",
       "    }\n",
       "\n",
       "    .dataframe thead th {\n",
       "        text-align: right;\n",
       "    }\n",
       "</style>\n",
       "<table border=\"1\" class=\"dataframe\">\n",
       "  <thead>\n",
       "    <tr style=\"text-align: right;\">\n",
       "      <th></th>\n",
       "      <th>birth_year</th>\n",
       "      <th>no of birthdays</th>\n",
       "      <th>is_valid_date</th>\n",
       "    </tr>\n",
       "  </thead>\n",
       "  <tbody>\n",
       "    <tr>\n",
       "      <th>0</th>\n",
       "      <td>1900</td>\n",
       "      <td>127</td>\n",
       "      <td>365</td>\n",
       "    </tr>\n",
       "    <tr>\n",
       "      <th>1</th>\n",
       "      <td>1901</td>\n",
       "      <td>175</td>\n",
       "      <td>365</td>\n",
       "    </tr>\n",
       "    <tr>\n",
       "      <th>2</th>\n",
       "      <td>1902</td>\n",
       "      <td>205</td>\n",
       "      <td>365</td>\n",
       "    </tr>\n",
       "    <tr>\n",
       "      <th>3</th>\n",
       "      <td>1903</td>\n",
       "      <td>262</td>\n",
       "      <td>365</td>\n",
       "    </tr>\n",
       "    <tr>\n",
       "      <th>4</th>\n",
       "      <td>1904</td>\n",
       "      <td>377</td>\n",
       "      <td>366</td>\n",
       "    </tr>\n",
       "    <tr>\n",
       "      <th>...</th>\n",
       "      <td>...</td>\n",
       "      <td>...</td>\n",
       "      <td>...</td>\n",
       "    </tr>\n",
       "    <tr>\n",
       "      <th>95</th>\n",
       "      <td>1995</td>\n",
       "      <td>12</td>\n",
       "      <td>365</td>\n",
       "    </tr>\n",
       "    <tr>\n",
       "      <th>96</th>\n",
       "      <td>1996</td>\n",
       "      <td>21</td>\n",
       "      <td>366</td>\n",
       "    </tr>\n",
       "    <tr>\n",
       "      <th>97</th>\n",
       "      <td>1997</td>\n",
       "      <td>19</td>\n",
       "      <td>365</td>\n",
       "    </tr>\n",
       "    <tr>\n",
       "      <th>98</th>\n",
       "      <td>1998</td>\n",
       "      <td>37</td>\n",
       "      <td>365</td>\n",
       "    </tr>\n",
       "    <tr>\n",
       "      <th>99</th>\n",
       "      <td>1999</td>\n",
       "      <td>70</td>\n",
       "      <td>354</td>\n",
       "    </tr>\n",
       "  </tbody>\n",
       "</table>\n",
       "<p>100 rows × 3 columns</p>\n",
       "</div>"
      ],
      "text/plain": [
       "   birth_year  no of birthdays  is_valid_date\n",
       "0        1900              127            365\n",
       "1        1901              175            365\n",
       "2        1902              205            365\n",
       "3        1903              262            365\n",
       "4        1904              377            366\n",
       "..        ...              ...            ...\n",
       "95       1995               12            365\n",
       "96       1996               21            366\n",
       "97       1997               19            365\n",
       "98       1998               37            365\n",
       "99       1999               70            354\n",
       "\n",
       "[100 rows x 3 columns]"
      ]
     },
     "execution_count": 27,
     "metadata": {},
     "output_type": "execute_result"
    }
   ],
   "source": [
    "df_group = df.groupby('birth_year').sum('number of people').rename({'number of people':'no of birthdays'}, axis=1)\n",
    "df_group.reset_index(inplace=True)\n",
    "df_group"
   ]
  },
  {
   "cell_type": "code",
   "execution_count": 28,
   "id": "7d156486",
   "metadata": {},
   "outputs": [
    {
     "data": {
      "text/plain": [
       "[<matplotlib.lines.Line2D at 0x117ac8810>]"
      ]
     },
     "execution_count": 28,
     "metadata": {},
     "output_type": "execute_result"
    },
    {
     "data": {
      "image/png": "[encoded data removed]",
      "text/plain": [
       "<Figure size 3960x1440 with 1 Axes>"
      ]
     },
     "metadata": {
      "needs_background": "light"
     },
     "output_type": "display_data"
    }
   ],
   "source": [
    "#distribution of birth\n",
    "plt.figure(figsize=(55, 20))\n",
    "plt.plot(df_group['birth_year'], df_group['no of birthdays'])"
   ]
  },
  {
   "cell_type": "code",
   "execution_count": null,
   "id": "a75f3b8c",
   "metadata": {},
   "outputs": [],
   "source": []
  },
  {
   "cell_type": "code",
   "execution_count": null,
   "id": "a86a2410",
   "metadata": {},
   "outputs": [],
   "source": []
  }
 ],
 "metadata": {
  "kernelspec": {
   "display_name": "Python 3 (ipykernel)",
   "language": "python",
   "name": "python3"
  },
  "language_info": {
   "codemirror_mode": {
    "name": "ipython",
    "version": 3
   },
   "file_extension": ".py",
   "mimetype": "text/x-python",
   "name": "python",
   "nbconvert_exporter": "python",
   "pygments_lexer": "ipython3",
   "version": "3.7.12"
  }
 },
 "nbformat": 4,
 "nbformat_minor": 5
}
